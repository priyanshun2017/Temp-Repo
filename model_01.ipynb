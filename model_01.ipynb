{
 "cells": [
  {
   "cell_type": "code",
   "execution_count": 1,
   "id": "initial_id",
   "metadata": {
    "collapsed": true,
    "ExecuteTime": {
     "end_time": "2024-06-07T03:39:49.622423900Z",
     "start_time": "2024-06-07T03:39:44.844384100Z"
    }
   },
   "outputs": [],
   "source": [
    "# Import all the tools we need\n",
    "import numpy as np\n",
    "import pandas as pd\n",
    "from sklearn.covariance import EllipticEnvelope\n",
    "from sklearn.linear_model import SGDClassifier\n",
    "from sklearn.neighbors import LocalOutlierFactor\n",
    "from sklearn.svm import OneClassSVM, LinearSVC, SVC, SVR\n",
    "from sklearn.metrics import accuracy_score"
   ]
  },
  {
   "cell_type": "code",
   "outputs": [
    {
     "name": "stdout",
     "output_type": "stream",
     "text": [
      "Size of pursuit signals: (19696, 97)\n",
      "Size of clutter signals: (19696, 97)\n",
      "<class 'pandas.core.series.Series'>\n",
      "Index: 7856 entries, 1 to 19692\n",
      "Series name: TD\n",
      "Non-Null Count  Dtype\n",
      "--------------  -----\n",
      "7856 non-null   int32\n",
      "dtypes: int32(1)\n",
      "memory usage: 92.1 KB\n",
      "Pursuit Dataset Revision done !\n",
      "<class 'pandas.core.series.Series'>\n",
      "Index: 11840 entries, 0 to 19695\n",
      "Series name: TD\n",
      "Non-Null Count  Dtype\n",
      "--------------  -----\n",
      "11840 non-null  int32\n",
      "dtypes: int32(1)\n",
      "memory usage: 138.8 KB\n",
      "Clutter Dataset Revision done !\n",
      "Dataset processing done !\n"
     ]
    },
    {
     "name": "stderr",
     "output_type": "stream",
     "text": [
      "C:\\Users\\RK Niranjan\\AppData\\Local\\Temp\\ipykernel_2688\\2051842506.py:26: FutureWarning: Downcasting behavior in `replace` is deprecated and will be removed in a future version. To retain the old behavior, explicitly call `result.infer_objects(copy=False)`. To opt-in to the future behavior, set `pd.set_option('future.no_silent_downcasting', True)`\n",
      "  pursuit['DF Type'] = pursuit['DF Type'].replace('ADF+BLI2', 4)\n",
      "C:\\Users\\RK Niranjan\\AppData\\Local\\Temp\\ipykernel_2688\\2051842506.py:34: FutureWarning: Downcasting behavior in `replace` is deprecated and will be removed in a future version. To retain the old behavior, explicitly call `result.infer_objects(copy=False)`. To opt-in to the future behavior, set `pd.set_option('future.no_silent_downcasting', True)`\n",
      "  pursuit['Frequency Agility'] = pursuit['Frequency Agility'].replace(\"LFM (Chirp-Up) / Frequency Agile\", 5)\n",
      "C:\\Users\\RK Niranjan\\AppData\\Local\\Temp\\ipykernel_2688\\2051842506.py:42: FutureWarning: Downcasting behavior in `replace` is deprecated and will be removed in a future version. To retain the old behavior, explicitly call `result.infer_objects(copy=False)`. To opt-in to the future behavior, set `pd.set_option('future.no_silent_downcasting', True)`\n",
      "  pursuit['Pulse Agility'] = pursuit['Pulse Agility'].replace('Frequency Agile', 5)\n",
      "C:\\Users\\RK Niranjan\\AppData\\Local\\Temp\\ipykernel_2688\\2051842506.py:76: FutureWarning: Downcasting behavior in `replace` is deprecated and will be removed in a future version. To retain the old behavior, explicitly call `result.infer_objects(copy=False)`. To opt-in to the future behavior, set `pd.set_option('future.no_silent_downcasting', True)`\n",
      "  clutter['DF Type'] = clutter['DF Type'].replace('ADF+BLI1', 5)\n",
      "C:\\Users\\RK Niranjan\\AppData\\Local\\Temp\\ipykernel_2688\\2051842506.py:84: FutureWarning: Downcasting behavior in `replace` is deprecated and will be removed in a future version. To retain the old behavior, explicitly call `result.infer_objects(copy=False)`. To opt-in to the future behavior, set `pd.set_option('future.no_silent_downcasting', True)`\n",
      "  clutter['Frequency Agility'] = clutter['Frequency Agility'].replace('LFM / Frequency Agile', 6)\n",
      "C:\\Users\\RK Niranjan\\AppData\\Local\\Temp\\ipykernel_2688\\2051842506.py:92: FutureWarning: Downcasting behavior in `replace` is deprecated and will be removed in a future version. To retain the old behavior, explicitly call `result.infer_objects(copy=False)`. To opt-in to the future behavior, set `pd.set_option('future.no_silent_downcasting', True)`\n",
      "  clutter['Pulse Agility'] = clutter['Pulse Agility'].replace('LFM', 5)\n"
     ]
    }
   ],
   "source": [
    "pursuit = pd.concat(map(pd.read_csv, [\"D:\\\\ELSEC\\\\SortiModel\\\\data\\\\1.csv\",\n",
    "                                      \"D:\\\\ELSEC\\\\SortiModel\\\\data\\\\2.csv\",\n",
    "                                      \"D:\\\\ELSEC\\\\SortiModel\\\\data\\\\3.csv\",\n",
    "                                      \"D:\\\\ELSEC\\\\SortiModel\\\\data\\\\4.csv\"]), ignore_index=True)\n",
    "clutter = pd.concat(map(pd.read_csv, [\"D:\\\\ELSEC\\\\SortiModel\\\\data\\\\1.csv\",\n",
    "                                      \"D:\\\\ELSEC\\\\SortiModel\\\\data\\\\2.csv\",\n",
    "                                      \"D:\\\\ELSEC\\\\SortiModel\\\\data\\\\3.csv\",\n",
    "                                      \"D:\\\\ELSEC\\\\SortiModel\\\\data\\\\4.csv\"]), ignore_index=True)\n",
    "print(f'Size of pursuit signals: {pursuit.shape}')\n",
    "print(f'Size of clutter signals: {clutter.shape}')\n",
    "pursuit = pursuit.drop(pursuit[pursuit.WeaponSystem == 'T5'].index)\n",
    "clutter = clutter.drop(clutter[clutter.WeaponSystem != 'T5'].index)\n",
    "\n",
    "pursuit.loc[pursuit.WeaponSystem == 'T5', 'Target'] = 0\n",
    "pursuit.loc[pursuit.WeaponSystem != 'T5', 'Target'] = 1\n",
    "pursuit.loc[pursuit['Target'] > 1.0, 'Target'] = 1\n",
    "pursuit['Target'] = pursuit['Target'].fillna(0)\n",
    "\n",
    "clutter.loc[clutter.WeaponSystem == 'T5', 'Target'] = 0\n",
    "clutter.loc[clutter.WeaponSystem != 'T5', 'Target'] = 1\n",
    "clutter.loc[clutter['Target'] > 1.0, 'Target'] = 1\n",
    "clutter['Target'] = clutter['Target'].fillna(0)\n",
    "pursuit['DF Type'] = pursuit['DF Type'].replace('BLI1', 1)\n",
    "pursuit['DF Type'] = pursuit['DF Type'].replace('ADF', 2)\n",
    "pursuit['DF Type'] = pursuit['DF Type'].replace('BLI2', 3)\n",
    "pursuit['DF Type'] = pursuit['DF Type'].replace('ADF+BLI2', 4)\n",
    "pursuit['DF Type'] = pursuit['DF Type'].replace('ADF+BLI1', 5)\n",
    "pursuit['DF Type'].astype(int)\n",
    "\n",
    "pursuit['Frequency Agility'] = pursuit['Frequency Agility'].replace('Fixed Frequency', 1)\n",
    "pursuit['Frequency Agility'] = pursuit['Frequency Agility'].replace('LFM', 2)\n",
    "pursuit['Frequency Agility'] = pursuit['Frequency Agility'].replace('LFM (Chirp-Up)', 3)\n",
    "pursuit['Frequency Agility'] = pursuit['Frequency Agility'].replace('Frequency Agile', 4)\n",
    "pursuit['Frequency Agility'] = pursuit['Frequency Agility'].replace(\"LFM (Chirp-Up) / Frequency Agile\", 5)\n",
    "pursuit['Frequency Agility'] = pursuit['Frequency Agility'].replace('LFM / Frequency Agile', 6)\n",
    "pursuit['Frequency Agility'].astype(int)\n",
    "\n",
    "pursuit['Pulse Agility'] = pursuit['Pulse Agility'].replace('Fixed PRI', 1)\n",
    "pursuit['Pulse Agility'] = pursuit['Pulse Agility'].replace('Fixed Frequency', 2)\n",
    "pursuit['Pulse Agility'] = pursuit['Pulse Agility'].replace('Stagger PRI', 3)\n",
    "pursuit['Pulse Agility'] = pursuit['Pulse Agility'].replace('Dwell&Switch PRI', 4)\n",
    "pursuit['Pulse Agility'] = pursuit['Pulse Agility'].replace('Frequency Agile', 5)\n",
    "pursuit['Pulse Agility'] = pursuit['Pulse Agility'].replace('LFM', 5)\n",
    "pursuit['Pulse Agility'].astype(int)\n",
    "\n",
    "pursuit['TOLA'] = pursuit['TOLA'].str.replace(' ', '').str.split(':').apply(lambda x: int(x[0])*3600 + int(x[1])*60 + int(x[2]))\n",
    "pursuit['TOLA'] = pursuit['TOLA'].astype(int)\n",
    "pursuit['TOFA'] = pursuit['TOFA'].str.replace(' ', '').str.split(':').apply(lambda x: int(x[0])*3600 + int(x[1])*60 + int(x[2]))\n",
    "pursuit['TOFA'] = pursuit['TOFA'].astype(int)\n",
    "\n",
    "pursuit['TD'] = (pursuit['TOLA'] - pursuit['TOFA'])\n",
    "pursuit['TD'].info()\n",
    "\n",
    "pursuit_t1 =  pursuit.drop(pursuit[pursuit.WeaponSystem != 'T1'].index)\n",
    "pursuit_t2 =  pursuit.drop(pursuit[pursuit.WeaponSystem != 'T2'].index)\n",
    "pursuit_t3 =  pursuit.drop(pursuit[pursuit.WeaponSystem != 'T3'].index)\n",
    "pursuit_t4 =  pursuit.drop(pursuit[pursuit.WeaponSystem != 'T4'].index)\n",
    "\n",
    "pursuit = pursuit.select_dtypes(exclude='object')\n",
    "pursuit = pursuit.drop(['Emitter Name'], axis=1)\n",
    "print('Pursuit Dataset Revision done !')\n",
    "\n",
    "pursuit_t1 = pursuit_t1.select_dtypes(exclude='object')\n",
    "pursuit_t1 = pursuit_t1.drop(['Emitter Name'], axis=1)\n",
    "pursuit_t2 = pursuit_t2.select_dtypes(exclude='object')\n",
    "pursuit_t2 = pursuit_t2.drop(['Emitter Name'], axis=1)\n",
    "pursuit_t3 = pursuit_t3.select_dtypes(exclude='object')\n",
    "pursuit_t3 = pursuit_t3.drop(['Emitter Name'], axis=1)\n",
    "pursuit_t4 = pursuit_t4.select_dtypes(exclude='object')\n",
    "pursuit_t4 = pursuit_t4.drop(['Emitter Name'], axis=1)\n",
    "\n",
    "clutter['DF Type'] = clutter['DF Type'].replace('BLI1', 1)\n",
    "clutter['DF Type'] = clutter['DF Type'].replace('ADF', 2)\n",
    "clutter['DF Type'] = clutter['DF Type'].replace('BLI2', 3)\n",
    "clutter['DF Type'] = clutter['DF Type'].replace('ADF+BLI2', 4)\n",
    "clutter['DF Type'] = clutter['DF Type'].replace('ADF+BLI1', 5)\n",
    "clutter['DF Type'].astype(int)\n",
    "\n",
    "clutter['Frequency Agility'] = clutter['Frequency Agility'].replace('Fixed Frequency', 1)\n",
    "clutter['Frequency Agility'] = clutter['Frequency Agility'].replace('LFM', 2)\n",
    "clutter['Frequency Agility'] = clutter['Frequency Agility'].replace('LFM (Chirp-Up)', 3)\n",
    "clutter['Frequency Agility'] = clutter['Frequency Agility'].replace('Frequency Agile', 4)\n",
    "clutter['Frequency Agility'] = clutter['Frequency Agility'].replace(\"LFM (Chirp-Up) / Frequency Agile\", 5)\n",
    "clutter['Frequency Agility'] = clutter['Frequency Agility'].replace('LFM / Frequency Agile', 6)\n",
    "clutter['Frequency Agility'].astype(int)\n",
    "\n",
    "clutter['Pulse Agility'] = clutter['Pulse Agility'].replace('Fixed PRI', 1)\n",
    "clutter['Pulse Agility'] = clutter['Pulse Agility'].replace('Fixed Frequency', 2)\n",
    "clutter['Pulse Agility'] = clutter['Pulse Agility'].replace('Stagger PRI', 3)\n",
    "clutter['Pulse Agility'] = clutter['Pulse Agility'].replace('Dwell&Switch PRI', 4)\n",
    "clutter['Pulse Agility'] = clutter['Pulse Agility'].replace('Frequency Agile', 5)\n",
    "clutter['Pulse Agility'] = clutter['Pulse Agility'].replace('LFM', 5)\n",
    "clutter['Pulse Agility'].astype(int)\n",
    "\n",
    "\n",
    "clutter['TOLA'] = clutter['TOLA'].str.replace(' ', '').str.split(':').apply(lambda x: int(x[0])*3600 + int(x[1])*60 + int(x[2]))\n",
    "clutter['TOLA'] = clutter['TOLA'].astype(int)\n",
    "clutter['TOFA'] = clutter['TOFA'].str.replace(' ', '').str.split(':').apply(lambda x: int(x[0])*3600 + int(x[1])*60 + int(x[2]))\n",
    "clutter['TOFA'] = clutter['TOFA'].astype(int)\n",
    "clutter['TD'] = (clutter['TOLA'] - clutter['TOFA'])\n",
    "clutter['TD'].info()\n",
    "\n",
    "clutter = clutter.select_dtypes(exclude='object')\n",
    "clutter = clutter.drop(['Emitter Name'], axis=1)\n",
    "print('Clutter Dataset Revision done !')\n",
    "print('Dataset processing done !') "
   ],
   "metadata": {
    "collapsed": false,
    "ExecuteTime": {
     "end_time": "2024-06-07T03:39:50.262147600Z",
     "start_time": "2024-06-07T03:39:49.631782500Z"
    }
   },
   "id": "74b537d161573be5",
   "execution_count": 2
  },
  {
   "cell_type": "code",
   "outputs": [],
   "source": [
    "pursuit_test = pursuit.drop('Target', axis=1)\n",
    "pursuit_res = pursuit['Target']\n",
    "pursuit_t1_test = pursuit_t1.drop('Target', axis=1)\n",
    "pursuit_t1_res = pursuit_t1['Target']\n",
    "pursuit_t2_test = pursuit_t2.drop('Target', axis=1)\n",
    "pursuit_t2_res = pursuit_t2['Target']\n",
    "pursuit_t3_test = pursuit_t3.drop('Target', axis=1)\n",
    "pursuit_t3_res = pursuit_t3['Target']\n",
    "pursuit_t4_test = pursuit_t4.drop('Target', axis=1)\n",
    "pursuit_t4_res = pursuit_t4['Target']"
   ],
   "metadata": {
    "collapsed": false,
    "ExecuteTime": {
     "end_time": "2024-06-07T03:39:50.278385100Z",
     "start_time": "2024-06-07T03:39:50.263347100Z"
    }
   },
   "id": "fe53dadb6c37b9cc",
   "execution_count": 3
  },
  {
   "cell_type": "code",
   "outputs": [
    {
     "name": "stdout",
     "output_type": "stream",
     "text": [
      "Size of Pursuit T1:1357\n",
      "Size of Pursuit T2:1299\n",
      "Size of Pursuit T3:4876\n",
      "Size of Pursuit T4:324\n"
     ]
    }
   ],
   "source": [
    "print(f'Size of Pursuit T1:{len(pursuit_t1)}')\n",
    "print(f'Size of Pursuit T2:{len(pursuit_t2)}')\n",
    "print(f'Size of Pursuit T3:{len(pursuit_t3)}')\n",
    "print(f'Size of Pursuit T4:{len(pursuit_t4)}')"
   ],
   "metadata": {
    "collapsed": false,
    "ExecuteTime": {
     "end_time": "2024-06-07T03:39:50.345068200Z",
     "start_time": "2024-06-07T03:39:50.280456700Z"
    }
   },
   "id": "607efad5e62d9547",
   "execution_count": 4
  },
  {
   "cell_type": "code",
   "outputs": [
    {
     "name": "stdout",
     "output_type": "stream",
     "text": [
      "<class 'pandas.core.frame.DataFrame'>\n",
      "Index: 7856 entries, 1 to 19692\n",
      "Data columns (total 31 columns):\n",
      " #   Column                  Non-Null Count  Dtype  \n",
      "---  ------                  --------------  -----  \n",
      " 0   Target                  7856 non-null   float64\n",
      " 1   TOFA                    7856 non-null   int32  \n",
      " 2   TOLA                    7856 non-null   int32  \n",
      " 3   Hit Count               7856 non-null   int64  \n",
      " 4   Frequency(MHz)          7856 non-null   float64\n",
      " 5   Pulse Width(us)         7856 non-null   float64\n",
      " 6   MaxAmplitude(dBm)       7856 non-null   float64\n",
      " 7   AOA(Deg)                7856 non-null   float64\n",
      " 8   DOA(Deg)                7856 non-null   float64\n",
      " 9   DF Type                 7856 non-null   int64  \n",
      " 10  Frequency Agility       7856 non-null   int64  \n",
      " 11  Bandwidth(MHz)          7856 non-null   float64\n",
      " 12  Pulse Agility           7856 non-null   int64  \n",
      " 13  Pulse Count             7856 non-null   int64  \n",
      " 14  Stagger/Jitter Level    7856 non-null   int64  \n",
      " 15  Latitude(deg)           7856 non-null   float64\n",
      " 16  Longitude(deg)          7856 non-null   float64\n",
      " 17  True Heading(deg)       7856 non-null   float64\n",
      " 18  Altitude(m)             7856 non-null   float64\n",
      " 19  Roll(deg)               7856 non-null   float64\n",
      " 20  Pitch(deg)              7856 non-null   float64\n",
      " 21  Yaw(deg)                7856 non-null   float64\n",
      " 22  IsPassive               7856 non-null   int64  \n",
      " 23  BI Phase Flag           7856 non-null   int64  \n",
      " 24  Est_LF_Lat(deg)         7856 non-null   float64\n",
      " 25  Est_LF_Long(deg)        7856 non-null   float64\n",
      " 26  Est_Major_Axis(kms)     7856 non-null   float64\n",
      " 27  Est_Minor_Axis(kms)     7856 non-null   float64\n",
      " 28  Inclinationarr_fPRI[0]  7856 non-null   float64\n",
      " 29  arr_fPRI[1]             7856 non-null   float64\n",
      " 30  TD                      7856 non-null   int32  \n",
      "dtypes: float64(20), int32(3), int64(8)\n",
      "memory usage: 2.1 MB\n"
     ]
    }
   ],
   "source": [
    "pursuit.info()"
   ],
   "metadata": {
    "collapsed": false,
    "ExecuteTime": {
     "end_time": "2024-06-07T03:39:50.360944900Z",
     "start_time": "2024-06-07T03:39:50.293880Z"
    }
   },
   "id": "47b104d29c816fd8",
   "execution_count": 5
  },
  {
   "cell_type": "code",
   "outputs": [
    {
     "name": "stdout",
     "output_type": "stream",
     "text": [
      "Total Number of Ones in Target Column of the training dataset: 3900\n",
      "Total Number of Zeros in Target Column of the training dataset: 0\n",
      "Total Number of Ones in Target Column of the test dataset: 976\n",
      "Total Number of Zeros in Target Column of the test dataset: 0\n"
     ]
    },
    {
     "data": {
      "text/plain": "(4876, 0)"
     },
     "execution_count": 6,
     "metadata": {},
     "output_type": "execute_result"
    }
   ],
   "source": [
    "train_size = int(len(pursuit_t3) * 0.8)\n",
    "X_train = pursuit_t3_test[:train_size]\n",
    "y_train = pursuit_t3_res[:train_size]\n",
    "\n",
    "X_test = pursuit_t3_test[train_size:]\n",
    "y_test = pursuit_t3_res[train_size:]\n",
    "\n",
    "y_train_np = np.array(y_train)\n",
    "num_ones_train = (y_train_np == 1).sum()\n",
    "print(f'Total Number of Ones in Target Column of the training dataset: {num_ones_train}')\n",
    "print(f'Total Number of Zeros in Target Column of the training dataset: {len(y_train) - num_ones_train}')\n",
    "y_test_np = np.array(y_test)\n",
    "num_ones_test = (y_test_np == 1).sum()\n",
    "print(f'Total Number of Ones in Target Column of the test dataset: {num_ones_test}')\n",
    "print(f'Total Number of Zeros in Target Column of the test dataset: {len(y_test) - num_ones_test}')\n",
    "num_ones_test + num_ones_train, (len(y_test) - num_ones_test) + (len(y_train) - num_ones_train)"
   ],
   "metadata": {
    "collapsed": false,
    "ExecuteTime": {
     "end_time": "2024-06-07T03:39:50.431026200Z",
     "start_time": "2024-06-07T03:39:50.309721800Z"
    }
   },
   "id": "e01220c9d10646a7",
   "execution_count": 6
  },
  {
   "cell_type": "code",
   "outputs": [
    {
     "name": "stdout",
     "output_type": "stream",
     "text": [
      "Accuracy of One-Class SVM: 0.6905737704918032\n"
     ]
    }
   ],
   "source": [
    "# One-Class SVM\n",
    "model_svm_01 = OneClassSVM(kernel='poly', gamma=0.5, nu=0.9)\n",
    "#model_svm_01 = EllipticEnvelope(contamination=0.1, random_state=42)\n",
    "#model_svm_01 =  LocalOutlierFactor(n_neighbors=20, contamination=\"auto\", novelty=True)\n",
    "#model_svm_01 = SVC(kernel='poly', degree=3, gamma='scale')\n",
    "#model_svm_01 = SVR(kernel='poly', gamma='auto', C=1.0, epsilon=12)\n",
    "#model_svm_01 = SGDClassifier(loss='log_loss', penalty='l2')\n",
    "# Fit the model on the training data\n",
    "\n",
    "model_svm_01.fit(X_train, y_train)\n",
    "\n",
    "# Predict on the test data\n",
    "y_pred_svm = model_svm_01.predict(X_test)\n",
    "\n",
    "# Convert the predictions to 1 (anomaly) and 0 (normal)\n",
    "y_pred_svm = np.where(y_pred_svm == -1, 1, 0)\n",
    "\n",
    "# Calculate and print the accuracy\n",
    "accuracy_svm = accuracy_score(y_test, y_pred_svm)\n",
    "#print(f'Prediction:', y_pred_svm)\n",
    "print(f\"Accuracy of One-Class SVM: {accuracy_svm}\")"
   ],
   "metadata": {
    "collapsed": false,
    "ExecuteTime": {
     "end_time": "2024-06-07T03:39:50.801703Z",
     "start_time": "2024-06-07T03:39:50.323095700Z"
    }
   },
   "id": "2eee5ce1d1865afb",
   "execution_count": 7
  },
  {
   "cell_type": "code",
   "outputs": [
    {
     "name": "stdout",
     "output_type": "stream",
     "text": [
      "Accuracy of One-Class SVM: 0.14296241709653648\n"
     ]
    }
   ],
   "source": [
    "# Predict on the test data\n",
    "y_pred_svm = model_svm_01.predict(pursuit_t1_test)\n",
    "\n",
    "# Convert the predictions to 1 (anomaly) and 0 (normal)\n",
    "y_pred_svm = np.where(y_pred_svm == -1, 1, 0)\n",
    "\n",
    "# Calculate and print the accuracy\n",
    "accuracy_svm = accuracy_score(pursuit_t1_res, y_pred_svm)\n",
    "#print(f'Prediction:', y_pred_svm)\n",
    "print(f\"Accuracy of One-Class SVM: {accuracy_svm}\")"
   ],
   "metadata": {
    "collapsed": false,
    "ExecuteTime": {
     "end_time": "2024-06-07T03:39:50.906048400Z",
     "start_time": "2024-06-07T03:39:50.791549700Z"
    }
   },
   "id": "84cea600548ec1a7",
   "execution_count": 8
  },
  {
   "cell_type": "code",
   "outputs": [
    {
     "name": "stdout",
     "output_type": "stream",
     "text": [
      "Accuracy of One-Class SVM: 1.0\n"
     ]
    }
   ],
   "source": [
    "# Predict on the test data\n",
    "y_pred_svm = model_svm_01.predict(pursuit_t2_test)\n",
    "\n",
    "# Convert the predictions to 1 (anomaly) and 0 (normal)\n",
    "y_pred_svm = np.where(y_pred_svm == -1, 1, 0)\n",
    "\n",
    "# Calculate and print the accuracy\n",
    "accuracy_svm = accuracy_score(pursuit_t2_res, y_pred_svm)\n",
    "#print(f'Prediction:', y_pred_svm)\n",
    "print(f\"Accuracy of One-Class SVM: {accuracy_svm}\")"
   ],
   "metadata": {
    "collapsed": false,
    "ExecuteTime": {
     "end_time": "2024-06-07T03:39:51.029106700Z",
     "start_time": "2024-06-07T03:39:50.907070100Z"
    }
   },
   "id": "1feddb6485a76bae",
   "execution_count": 9
  },
  {
   "cell_type": "code",
   "outputs": [
    {
     "name": "stdout",
     "output_type": "stream",
     "text": [
      "Accuracy of One-Class SVM: 0.8574651353568499\n"
     ]
    }
   ],
   "source": [
    "# Predict on the test data\n",
    "y_pred_svm = model_svm_01.predict(pursuit_t3_test)\n",
    "\n",
    "# Convert the predictions to 1 (anomaly) and 0 (normal)\n",
    "y_pred_svm = np.where(y_pred_svm == -1, 1, 0)\n",
    "\n",
    "# Calculate and print the accuracy\n",
    "accuracy_svm = accuracy_score(pursuit_t3_res, y_pred_svm)\n",
    "#print(f'Prediction:', y_pred_svm)\n",
    "print(f\"Accuracy of One-Class SVM: {accuracy_svm}\")"
   ],
   "metadata": {
    "collapsed": false,
    "ExecuteTime": {
     "end_time": "2024-06-07T03:39:51.390039Z",
     "start_time": "2024-06-07T03:39:51.032281500Z"
    }
   },
   "id": "533267c7ac175a27",
   "execution_count": 10
  },
  {
   "cell_type": "code",
   "outputs": [
    {
     "name": "stdout",
     "output_type": "stream",
     "text": [
      "Accuracy of One-Class SVM: 1.0\n"
     ]
    }
   ],
   "source": [
    "# Predict on the test data\n",
    "y_pred_svm = model_svm_01.predict(pursuit_t4_test)\n",
    "\n",
    "# Convert the predictions to 1 (anomaly) and 0 (normal)\n",
    "y_pred_svm = np.where(y_pred_svm == -1, 1, 0)\n",
    "\n",
    "# Calculate and print the accuracy\n",
    "accuracy_svm = accuracy_score(pursuit_t4_res, y_pred_svm)\n",
    "#print(f'Prediction:', y_pred_svm)\n",
    "print(f\"Accuracy of One-Class SVM: {accuracy_svm}\")"
   ],
   "metadata": {
    "collapsed": false,
    "ExecuteTime": {
     "end_time": "2024-06-07T03:39:51.428140200Z",
     "start_time": "2024-06-07T03:39:51.379377600Z"
    }
   },
   "id": "75286a643d8eae8e",
   "execution_count": 11
  },
  {
   "cell_type": "code",
   "outputs": [
    {
     "name": "stdout",
     "output_type": "stream",
     "text": [
      "Accuracy of One-Class SVM: 0.5677364864864864\n",
      "Total clutter 5118\n"
     ]
    }
   ],
   "source": [
    "clutter_X = clutter.drop(\"Target\", axis=1)\n",
    "clutter_y = clutter[\"Target\"]\n",
    "\n",
    "# Predict on the test data\n",
    "y_pred_svm = model_svm_01.predict(clutter_X)\n",
    "\n",
    "# Convert the predictions to 1 (anomaly) and 0 (normal)\n",
    "y_pred_svm = np.where(y_pred_svm == -1, 1, 0)\n",
    "\n",
    "# Calculate and print the accuracy\n",
    "accuracy_svm = accuracy_score(clutter_y, y_pred_svm)\n",
    "#print(f'Prediction:', y_pred_svm)\n",
    "clutter['Target'] = y_pred_svm\n",
    "clutter_X_arr = np.array(clutter_X)\n",
    "print(f\"Accuracy of One-Class SVM: {accuracy_svm}\")\n",
    "j = 0\n",
    "for i in range(len(clutter_X_arr)):\n",
    "    if y_pred_svm[i] == 1:\n",
    "        j = j + 1\n",
    "print(\"Total clutter\", j)"
   ],
   "metadata": {
    "collapsed": false,
    "ExecuteTime": {
     "end_time": "2024-06-07T03:39:52.232454900Z",
     "start_time": "2024-06-07T03:39:51.417510200Z"
    }
   },
   "id": "56db134417734638",
   "execution_count": 12
  },
  {
   "cell_type": "code",
   "outputs": [
    {
     "data": {
      "text/plain": "Target\n0    6722\n1    5118\nName: count, dtype: int64"
     },
     "execution_count": 13,
     "metadata": {},
     "output_type": "execute_result"
    }
   ],
   "source": [
    "clutter['Target'].value_counts()"
   ],
   "metadata": {
    "collapsed": false,
    "ExecuteTime": {
     "end_time": "2024-06-07T03:39:52.250013100Z",
     "start_time": "2024-06-07T03:39:52.238149600Z"
    }
   },
   "id": "ea1b8b0bfc5f1ad",
   "execution_count": 13
  },
  {
   "cell_type": "code",
   "outputs": [],
   "source": [
    "#df = pd.read_csv('CompleteReportOnClutter.csv')\n",
    "#clutter.to_csv('CompleteReportOnClutter.csv', index=False)"
   ],
   "metadata": {
    "collapsed": false,
    "ExecuteTime": {
     "end_time": "2024-06-07T03:39:52.302654500Z",
     "start_time": "2024-06-07T03:39:52.242593400Z"
    }
   },
   "id": "4ad5fcf9af4df72e",
   "execution_count": 14
  },
  {
   "cell_type": "code",
   "outputs": [],
   "source": [
    "# df['Target'].value_counts()\n",
    "# df[df['Duration Of Intercept'] == 0].describe()\n",
    "# df[df['Target'] == 0].describe()\n",
    "# import tensorflow as tf\n",
    "# \n",
    "# gpus = tf.config.list_physical_devices('GPU')\n",
    "# if gpus:\n",
    "#     print(f\"GPUs available: {len(gpus)}\")\n",
    "#     for gpu in gpus:\n",
    "#         print(gpu)\n",
    "# else:\n",
    "#     print(\"No GPUs available\")\n",
    "# \n",
    "# import torch\n",
    "# \n",
    "# if torch.cuda.is_available():\n",
    "#     print(f\"GPU available: {torch.cuda.get_device_name(0)}\")\n",
    "# else:\n",
    "#     print(\"No GPUs available\")\n",
    "# \n",
    "# import joblib\n",
    "# joblib.dump(model_svm_01, 'model.pkl')\n",
    "# \n",
    "# import onnx\n",
    "# from skl2onnx import convert_sklearn\n",
    "# from skl2onnx.common.data_types import FloatTensorType\n",
    "# \n",
    "# model = joblib.load('model.pkl')\n",
    "# initial_type = [('float_input', FloatTensorType([None, 4]))]\n",
    "# onnx_model = convert_sklearn(model, initial_types=initial_type)\n",
    "# with open(\"model.onnx\", \"wb\") as f:\n",
    "#     f.write(onnx_model.SerializeToString())\n"
   ],
   "metadata": {
    "collapsed": false,
    "ExecuteTime": {
     "end_time": "2024-06-07T03:39:52.304997Z",
     "start_time": "2024-06-07T03:39:52.260584300Z"
    }
   },
   "id": "e3b550cd92d206cf",
   "execution_count": 15
  },
  {
   "cell_type": "code",
   "outputs": [],
   "source": [
    "import pandas as pd"
   ],
   "metadata": {
    "collapsed": false,
    "ExecuteTime": {
     "end_time": "2024-06-07T09:11:21.567853Z",
     "start_time": "2024-06-07T09:11:21.544295300Z"
    }
   },
   "id": "10f79df8bff8a4f8",
   "execution_count": 151
  },
  {
   "cell_type": "code",
   "outputs": [],
   "source": [
    "graph = pd.read_csv('CompleteReportOnClutter.csv')\n",
    "graph = graph[graph['Target'] == 0]"
   ],
   "metadata": {
    "collapsed": false,
    "ExecuteTime": {
     "end_time": "2024-06-07T09:11:22.049238800Z",
     "start_time": "2024-06-07T09:11:22.008854500Z"
    }
   },
   "id": "38c1aea8487a0efe",
   "execution_count": 152
  },
  {
   "cell_type": "code",
   "outputs": [],
   "source": [
    "graph = graph[graph['Frequency(MHz)'] < 10000]"
   ],
   "metadata": {
    "collapsed": false,
    "ExecuteTime": {
     "end_time": "2024-06-07T09:11:24.056375200Z",
     "start_time": "2024-06-07T09:11:24.045975700Z"
    }
   },
   "id": "3506949f3deec25a",
   "execution_count": 153
  },
  {
   "cell_type": "code",
   "outputs": [
    {
     "name": "stdout",
     "output_type": "stream",
     "text": [
      "<class 'pandas.core.frame.DataFrame'>\n",
      "Index: 6722 entries, 3 to 11839\n",
      "Data columns (total 31 columns):\n",
      " #   Column                  Non-Null Count  Dtype  \n",
      "---  ------                  --------------  -----  \n",
      " 0   Target                  6722 non-null   int64  \n",
      " 1   TOFA                    6722 non-null   int64  \n",
      " 2   TOLA                    6722 non-null   int64  \n",
      " 3   Hit Count               6722 non-null   int64  \n",
      " 4   Frequency(MHz)          6722 non-null   float64\n",
      " 5   Pulse Width(us)         6722 non-null   float64\n",
      " 6   MaxAmplitude(dBm)       6722 non-null   float64\n",
      " 7   AOA(Deg)                6722 non-null   float64\n",
      " 8   DOA(Deg)                6722 non-null   float64\n",
      " 9   DF Type                 6722 non-null   int64  \n",
      " 10  Frequency Agility       6722 non-null   int64  \n",
      " 11  Bandwidth(MHz)          6722 non-null   float64\n",
      " 12  Pulse Agility           6722 non-null   int64  \n",
      " 13  Pulse Count             6722 non-null   int64  \n",
      " 14  Stagger/Jitter Level    6722 non-null   int64  \n",
      " 15  Latitude(deg)           6722 non-null   float64\n",
      " 16  Longitude(deg)          6722 non-null   float64\n",
      " 17  True Heading(deg)       6722 non-null   float64\n",
      " 18  Altitude(m)             6722 non-null   float64\n",
      " 19  Roll(deg)               6722 non-null   float64\n",
      " 20  Pitch(deg)              6722 non-null   float64\n",
      " 21  Yaw(deg)                6722 non-null   float64\n",
      " 22  IsPassive               6722 non-null   int64  \n",
      " 23  BI Phase Flag           6722 non-null   int64  \n",
      " 24  Est_LF_Lat(deg)         6722 non-null   float64\n",
      " 25  Est_LF_Long(deg)        6722 non-null   float64\n",
      " 26  Est_Major_Axis(kms)     6722 non-null   float64\n",
      " 27  Est_Minor_Axis(kms)     6722 non-null   float64\n",
      " 28  Inclinationarr_fPRI[0]  6722 non-null   float64\n",
      " 29  arr_fPRI[1]             6722 non-null   float64\n",
      " 30  TD                      6722 non-null   int64  \n",
      "dtypes: float64(19), int64(12)\n",
      "memory usage: 1.6 MB\n"
     ]
    }
   ],
   "source": [
    "graph.info()"
   ],
   "metadata": {
    "collapsed": false,
    "ExecuteTime": {
     "end_time": "2024-06-07T09:11:24.619256500Z",
     "start_time": "2024-06-07T09:11:24.605984400Z"
    }
   },
   "id": "4975200cf2d336eb",
   "execution_count": 154
  },
  {
   "cell_type": "code",
   "outputs": [],
   "source": [
    "import matplotlib.pyplot as plt\n",
    "import numpy as np\n",
    "setter_freq = set()\n",
    "setter_pri = set()\n",
    "clutter_X_arr = np.array(graph)"
   ],
   "metadata": {
    "collapsed": false,
    "ExecuteTime": {
     "end_time": "2024-06-07T09:11:25.157973600Z",
     "start_time": "2024-06-07T09:11:25.146755100Z"
    }
   },
   "id": "41293f73d4176186",
   "execution_count": 155
  },
  {
   "cell_type": "code",
   "outputs": [],
   "source": [
    "for i in range(len(clutter_X_arr)):\n",
    "    setter_freq.add(clutter_X_arr[i][4])\n",
    "    setter_pri.add(clutter_X_arr[i][5])"
   ],
   "metadata": {
    "collapsed": false,
    "ExecuteTime": {
     "end_time": "2024-06-07T09:11:25.812091600Z",
     "start_time": "2024-06-07T09:11:25.796753Z"
    }
   },
   "id": "fcf1f7cfbf2eb3d1",
   "execution_count": 156
  },
  {
   "cell_type": "code",
   "outputs": [
    {
     "data": {
      "text/plain": "(167, 81)"
     },
     "execution_count": 157,
     "metadata": {},
     "output_type": "execute_result"
    }
   ],
   "source": [
    "len(setter_freq), len(setter_pri)"
   ],
   "metadata": {
    "collapsed": false,
    "ExecuteTime": {
     "end_time": "2024-06-07T09:11:26.350450100Z",
     "start_time": "2024-06-07T09:11:26.338211200Z"
    }
   },
   "id": "bfc729a5a5f50726",
   "execution_count": 157
  },
  {
   "cell_type": "code",
   "outputs": [
    {
     "data": {
      "text/plain": "<Figure size 640x480 with 1 Axes>",
      "image/png": "[encoded data removed]"
     },
     "metadata": {},
     "output_type": "display_data"
    }
   ],
   "source": [
    "Graph = list(setter_freq)\n",
    "pris = list(setter_pri)\n",
    "#Graph.sort()\n",
    "pris.sort()\n",
    "xs = [z for z in range(0, len(Graph))]\n",
    "plt.plot(xs, Graph)\n",
    "plt.xlabel('Indices', fontsize=12)\n",
    "plt.ylabel('Frequency(MHz)', fontsize=12)\n",
    "plt.title('Frequency in non-SOI', fontsize=15)\n",
    "plt.show()"
   ],
   "metadata": {
    "collapsed": false,
    "ExecuteTime": {
     "end_time": "2024-06-07T09:11:50.315310500Z",
     "start_time": "2024-06-07T09:11:50.220806300Z"
    }
   },
   "id": "6a6b2aec6ac96aaa",
   "execution_count": 159
  },
  {
   "cell_type": "code",
   "outputs": [],
   "source": [],
   "metadata": {
    "collapsed": false
   },
   "id": "6682087c01144989"
  }
 ],
 "metadata": {
  "kernelspec": {
   "display_name": "Python 3",
   "language": "python",
   "name": "python3"
  },
  "language_info": {
   "codemirror_mode": {
    "name": "ipython",
    "version": 2
   },
   "file_extension": ".py",
   "mimetype": "text/x-python",
   "name": "python",
   "nbconvert_exporter": "python",
   "pygments_lexer": "ipython2",
   "version": "2.7.6"
  }
 },
 "nbformat": 4,
 "nbformat_minor": 5
}

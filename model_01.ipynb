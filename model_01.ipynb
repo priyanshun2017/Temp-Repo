{
 "cells": [
  {
   "cell_type": "code",
   "execution_count": null,
   "id": "initial_id",
   "metadata": {
    "collapsed": true
   },
   "outputs": [],
   "source": [
    "# Import all the tools we need\n",
    "import numpy as np\n",
    "import pandas as pd\n",
    "from sklearn.covariance import EllipticEnvelope\n",
    "from sklearn.linear_model import SGDClassifier\n",
    "from sklearn.neighbors import LocalOutlierFactor\n",
    "from sklearn.svm import OneClassSVM, LinearSVC, SVC, SVR\n",
    "from sklearn.metrics import accuracy_score"
   ]
  },
  {
   "cell_type": "code",
   "outputs": [],
   "source": [
    "pursuit = pd.concat(map(pd.read_csv, [\"D:\\\\ELSEC\\\\SortiModel\\\\data\\\\1.csv\",\n",
    "                                      \"D:\\\\ELSEC\\\\SortiModel\\\\data\\\\2.csv\",\n",
    "                                      \"D:\\\\ELSEC\\\\SortiModel\\\\data\\\\3.csv\",\n",
    "                                      \"D:\\\\ELSEC\\\\SortiModel\\\\data\\\\4.csv\"]), ignore_index=True)\n",
    "clutter = pd.concat(map(pd.read_csv, [\"D:\\\\ELSEC\\\\SortiModel\\\\data\\\\1.csv\",\n",
    "                                      \"D:\\\\ELSEC\\\\SortiModel\\\\data\\\\2.csv\",\n",
    "                                      \"D:\\\\ELSEC\\\\SortiModel\\\\data\\\\3.csv\",\n",
    "                                      \"D:\\\\ELSEC\\\\SortiModel\\\\data\\\\4.csv\"]), ignore_index=True)\n",
    "print(f'Size of pursuit signals: {pursuit.shape}')\n",
    "print(f'Size of clutter signals: {clutter.shape}')\n",
    "pursuit = pursuit.drop(pursuit[pursuit.WeaponSystem == 'T5'].index)\n",
    "clutter = clutter.drop(clutter[clutter.WeaponSystem != 'T5'].index)\n",
    "\n",
    "pursuit.loc[pursuit.WeaponSystem == 'T5', 'Target'] = 0\n",
    "pursuit.loc[pursuit.WeaponSystem != 'T5', 'Target'] = 1\n",
    "pursuit.loc[pursuit['Target'] > 1.0, 'Target'] = 1\n",
    "pursuit['Target'] = pursuit['Target'].fillna(0)\n",
    "\n",
    "clutter.loc[clutter.WeaponSystem == 'T5', 'Target'] = 0\n",
    "clutter.loc[clutter.WeaponSystem != 'T5', 'Target'] = 1\n",
    "clutter.loc[clutter['Target'] > 1.0, 'Target'] = 1\n",
    "clutter['Target'] = clutter['Target'].fillna(0)\n",
    "pursuit['DF Type'] = pursuit['DF Type'].replace('BLI1', 1)\n",
    "pursuit['DF Type'] = pursuit['DF Type'].replace('ADF', 2)\n",
    "pursuit['DF Type'] = pursuit['DF Type'].replace('BLI2', 3)\n",
    "pursuit['DF Type'] = pursuit['DF Type'].replace('ADF+BLI2', 4)\n",
    "pursuit['DF Type'] = pursuit['DF Type'].replace('ADF+BLI1', 5)\n",
    "pursuit['DF Type'].astype(int)\n",
    "\n",
    "pursuit['Frequency Agility'] = pursuit['Frequency Agility'].replace('Fixed Frequency', 1)\n",
    "pursuit['Frequency Agility'] = pursuit['Frequency Agility'].replace('LFM', 2)\n",
    "pursuit['Frequency Agility'] = pursuit['Frequency Agility'].replace('LFM (Chirp-Up)', 3)\n",
    "pursuit['Frequency Agility'] = pursuit['Frequency Agility'].replace('Frequency Agile', 4)\n",
    "pursuit['Frequency Agility'] = pursuit['Frequency Agility'].replace(\"LFM (Chirp-Up) / Frequency Agile\", 5)\n",
    "pursuit['Frequency Agility'] = pursuit['Frequency Agility'].replace('LFM / Frequency Agile', 6)\n",
    "pursuit['Frequency Agility'].astype(int)\n",
    "\n",
    "pursuit['Pulse Agility'] = pursuit['Pulse Agility'].replace('Fixed PRI', 1)\n",
    "pursuit['Pulse Agility'] = pursuit['Pulse Agility'].replace('Fixed Frequency', 2)\n",
    "pursuit['Pulse Agility'] = pursuit['Pulse Agility'].replace('Stagger PRI', 3)\n",
    "pursuit['Pulse Agility'] = pursuit['Pulse Agility'].replace('Dwell&Switch PRI', 4)\n",
    "pursuit['Pulse Agility'] = pursuit['Pulse Agility'].replace('Frequency Agile', 5)\n",
    "pursuit['Pulse Agility'] = pursuit['Pulse Agility'].replace('LFM', 5)\n",
    "pursuit['Pulse Agility'].astype(int)\n",
    "\n",
    "pursuit['TOLA'] = pursuit['TOLA'].str.replace(' ', '').str.split(':').apply(lambda x: int(x[0])*3600 + int(x[1])*60 + int(x[2]))\n",
    "pursuit['TOLA'] = pursuit['TOLA'].astype(int)\n",
    "pursuit['TOFA'] = pursuit['TOFA'].str.replace(' ', '').str.split(':').apply(lambda x: int(x[0])*3600 + int(x[1])*60 + int(x[2]))\n",
    "pursuit['TOFA'] = pursuit['TOFA'].astype(int)\n",
    "\n",
    "pursuit['TD'] = (pursuit['TOLA'] - pursuit['TOFA'])\n",
    "pursuit['TD'].info()\n",
    "\n",
    "pursuit_t1 =  pursuit.drop(pursuit[pursuit.WeaponSystem != 'T1'].index)\n",
    "pursuit_t2 =  pursuit.drop(pursuit[pursuit.WeaponSystem != 'T2'].index)\n",
    "pursuit_t3 =  pursuit.drop(pursuit[pursuit.WeaponSystem != 'T3'].index)\n",
    "pursuit_t4 =  pursuit.drop(pursuit[pursuit.WeaponSystem != 'T4'].index)\n",
    "\n",
    "pursuit = pursuit.select_dtypes(exclude='object')\n",
    "pursuit = pursuit.drop(['Emitter Name'], axis=1)\n",
    "print('Pursuit Dataset Revision done !')\n",
    "\n",
    "pursuit_t1 = pursuit_t1.select_dtypes(exclude='object')\n",
    "pursuit_t1 = pursuit_t1.drop(['Emitter Name'], axis=1)\n",
    "pursuit_t2 = pursuit_t2.select_dtypes(exclude='object')\n",
    "pursuit_t2 = pursuit_t2.drop(['Emitter Name'], axis=1)\n",
    "pursuit_t3 = pursuit_t3.select_dtypes(exclude='object')\n",
    "pursuit_t3 = pursuit_t3.drop(['Emitter Name'], axis=1)\n",
    "pursuit_t4 = pursuit_t4.select_dtypes(exclude='object')\n",
    "pursuit_t4 = pursuit_t4.drop(['Emitter Name'], axis=1)\n",
    "\n",
    "clutter['DF Type'] = clutter['DF Type'].replace('BLI1', 1)\n",
    "clutter['DF Type'] = clutter['DF Type'].replace('ADF', 2)\n",
    "clutter['DF Type'] = clutter['DF Type'].replace('BLI2', 3)\n",
    "clutter['DF Type'] = clutter['DF Type'].replace('ADF+BLI2', 4)\n",
    "clutter['DF Type'] = clutter['DF Type'].replace('ADF+BLI1', 5)\n",
    "clutter['DF Type'].astype(int)\n",
    "\n",
    "clutter['Frequency Agility'] = clutter['Frequency Agility'].replace('Fixed Frequency', 1)\n",
    "clutter['Frequency Agility'] = clutter['Frequency Agility'].replace('LFM', 2)\n",
    "clutter['Frequency Agility'] = clutter['Frequency Agility'].replace('LFM (Chirp-Up)', 3)\n",
    "clutter['Frequency Agility'] = clutter['Frequency Agility'].replace('Frequency Agile', 4)\n",
    "clutter['Frequency Agility'] = clutter['Frequency Agility'].replace(\"LFM (Chirp-Up) / Frequency Agile\", 5)\n",
    "clutter['Frequency Agility'] = clutter['Frequency Agility'].replace('LFM / Frequency Agile', 6)\n",
    "clutter['Frequency Agility'].astype(int)\n",
    "\n",
    "clutter['Pulse Agility'] = clutter['Pulse Agility'].replace('Fixed PRI', 1)\n",
    "clutter['Pulse Agility'] = clutter['Pulse Agility'].replace('Fixed Frequency', 2)\n",
    "clutter['Pulse Agility'] = clutter['Pulse Agility'].replace('Stagger PRI', 3)\n",
    "clutter['Pulse Agility'] = clutter['Pulse Agility'].replace('Dwell&Switch PRI', 4)\n",
    "clutter['Pulse Agility'] = clutter['Pulse Agility'].replace('Frequency Agile', 5)\n",
    "clutter['Pulse Agility'] = clutter['Pulse Agility'].replace('LFM', 5)\n",
    "clutter['Pulse Agility'].astype(int)\n",
    "\n",
    "\n",
    "clutter['TOLA'] = clutter['TOLA'].str.replace(' ', '').str.split(':').apply(lambda x: int(x[0])*3600 + int(x[1])*60 + int(x[2]))\n",
    "clutter['TOLA'] = clutter['TOLA'].astype(int)\n",
    "clutter['TOFA'] = clutter['TOFA'].str.replace(' ', '').str.split(':').apply(lambda x: int(x[0])*3600 + int(x[1])*60 + int(x[2]))\n",
    "clutter['TOFA'] = clutter['TOFA'].astype(int)\n",
    "clutter['TD'] = (clutter['TOLA'] - clutter['TOFA'])\n",
    "clutter['TD'].info()\n",
    "\n",
    "clutter = clutter.select_dtypes(exclude='object')\n",
    "clutter = clutter.drop(['Emitter Name'], axis=1)\n",
    "print('Clutter Dataset Revision done !')\n",
    "print('Dataset processing done !') "
   ],
   "metadata": {
    "collapsed": false
   },
   "id": "74b537d161573be5",
   "execution_count": null
  },
  {
   "cell_type": "code",
   "outputs": [],
   "source": [
    "pursuit_test = pursuit.drop('Target', axis=1)\n",
    "pursuit_res = pursuit['Target']\n",
    "pursuit_t1_test = pursuit_t1.drop('Target', axis=1)\n",
    "pursuit_t1_res = pursuit_t1['Target']\n",
    "pursuit_t2_test = pursuit_t2.drop('Target', axis=1)\n",
    "pursuit_t2_res = pursuit_t2['Target']\n",
    "pursuit_t3_test = pursuit_t3.drop('Target', axis=1)\n",
    "pursuit_t3_res = pursuit_t3['Target']\n",
    "pursuit_t4_test = pursuit_t4.drop('Target', axis=1)\n",
    "pursuit_t4_res = pursuit_t4['Target']"
   ],
   "metadata": {
    "collapsed": false
   },
   "id": "fe53dadb6c37b9cc",
   "execution_count": null
  },
  {
   "cell_type": "code",
   "outputs": [],
   "source": [
    "print(f'Size of Pursuit T1:{len(pursuit_t1)}')\n",
    "print(f'Size of Pursuit T2:{len(pursuit_t2)}')\n",
    "print(f'Size of Pursuit T3:{len(pursuit_t3)}')\n",
    "print(f'Size of Pursuit T4:{len(pursuit_t4)}')"
   ],
   "metadata": {
    "collapsed": false
   },
   "id": "607efad5e62d9547",
   "execution_count": null
  },
  {
   "cell_type": "code",
   "outputs": [],
   "source": [
    "train_size = int(len(pursuit_t3) * 0.8)\n",
    "X_train = pursuit_t3_test[:train_size]\n",
    "y_train = pursuit_t3_res[:train_size]\n",
    "\n",
    "X_test = pursuit_t3_test[train_size:]\n",
    "y_test = pursuit_t3_res[train_size:]\n",
    "\n",
    "y_train_np = np.array(y_train)\n",
    "num_ones_train = (y_train_np == 1).sum()\n",
    "print(f'Total Number of Ones in Target Column of the training dataset: {num_ones_train}')\n",
    "print(f'Total Number of Zeros in Target Column of the training dataset: {len(y_train) - num_ones_train}')\n",
    "y_test_np = np.array(y_test)\n",
    "num_ones_test = (y_test_np == 1).sum()\n",
    "print(f'Total Number of Ones in Target Column of the test dataset: {num_ones_test}')\n",
    "print(f'Total Number of Zeros in Target Column of the test dataset: {len(y_test) - num_ones_test}')\n",
    "num_ones_test + num_ones_train, (len(y_test) - num_ones_test) + (len(y_train) - num_ones_train)"
   ],
   "metadata": {
    "collapsed": false
   },
   "id": "e01220c9d10646a7",
   "execution_count": null
  },
  {
   "cell_type": "code",
   "outputs": [],
   "source": [
    "# One-Class SVM\n",
    "model_svm_01 = OneClassSVM(kernel='poly', gamma=0.5, nu=0.9)\n",
    "#model_svm_01 = EllipticEnvelope(contamination=0.1, random_state=42)\n",
    "#model_svm_01 =  LocalOutlierFactor(n_neighbors=20, contamination=\"auto\", novelty=True)\n",
    "#model_svm_01 = SVC(kernel='poly', degree=3, gamma='scale')\n",
    "#model_svm_01 = SVR(kernel='poly', gamma='auto', C=1.0, epsilon=12)\n",
    "#model_svm_01 = SGDClassifier(loss='log_loss', penalty='l2')\n",
    "# Fit the model on the training data\n",
    "\n",
    "model_svm_01.fit(X_train, y_train)\n",
    "\n",
    "# Predict on the test data\n",
    "y_pred_svm = model_svm_01.predict(X_test)\n",
    "\n",
    "# Convert the predictions to 1 (anomaly) and 0 (normal)\n",
    "y_pred_svm = np.where(y_pred_svm == -1, 1, 0)\n",
    "\n",
    "# Calculate and print the accuracy\n",
    "accuracy_svm = accuracy_score(y_test, y_pred_svm)\n",
    "#print(f'Prediction:', y_pred_svm)\n",
    "print(f\"Accuracy of One-Class SVM: {accuracy_svm}\")"
   ],
   "metadata": {
    "collapsed": false
   },
   "id": "2eee5ce1d1865afb",
   "execution_count": null
  },
  {
   "cell_type": "code",
   "outputs": [],
   "source": [
    "# Predict on the test data\n",
    "y_pred_svm = model_svm_01.predict(pursuit_t1_test)\n",
    "\n",
    "# Convert the predictions to 1 (anomaly) and 0 (normal)\n",
    "y_pred_svm = np.where(y_pred_svm == -1, 1, 0)\n",
    "\n",
    "# Calculate and print the accuracy\n",
    "accuracy_svm = accuracy_score(pursuit_t1_res, y_pred_svm)\n",
    "#print(f'Prediction:', y_pred_svm)\n",
    "print(f\"Accuracy of One-Class SVM: {accuracy_svm}\")"
   ],
   "metadata": {
    "collapsed": false
   },
   "id": "84cea600548ec1a7",
   "execution_count": null
  },
  {
   "cell_type": "code",
   "outputs": [],
   "source": [
    "# Predict on the test data\n",
    "y_pred_svm = model_svm_01.predict(pursuit_t2_test)\n",
    "\n",
    "# Convert the predictions to 1 (anomaly) and 0 (normal)\n",
    "y_pred_svm = np.where(y_pred_svm == -1, 1, 0)\n",
    "\n",
    "# Calculate and print the accuracy\n",
    "accuracy_svm = accuracy_score(pursuit_t2_res, y_pred_svm)\n",
    "#print(f'Prediction:', y_pred_svm)\n",
    "print(f\"Accuracy of One-Class SVM: {accuracy_svm}\")"
   ],
   "metadata": {
    "collapsed": false
   },
   "id": "1feddb6485a76bae",
   "execution_count": null
  },
  {
   "cell_type": "code",
   "outputs": [],
   "source": [
    "# Predict on the test data\n",
    "y_pred_svm = model_svm_01.predict(pursuit_t3_test)\n",
    "\n",
    "# Convert the predictions to 1 (anomaly) and 0 (normal)\n",
    "y_pred_svm = np.where(y_pred_svm == -1, 1, 0)\n",
    "\n",
    "# Calculate and print the accuracy\n",
    "accuracy_svm = accuracy_score(pursuit_t3_res, y_pred_svm)\n",
    "#print(f'Prediction:', y_pred_svm)\n",
    "print(f\"Accuracy of One-Class SVM: {accuracy_svm}\")"
   ],
   "metadata": {
    "collapsed": false
   },
   "id": "533267c7ac175a27",
   "execution_count": null
  },
  {
   "cell_type": "code",
   "outputs": [],
   "source": [
    "# Predict on the test data\n",
    "y_pred_svm = model_svm_01.predict(pursuit_t4_test)\n",
    "\n",
    "# Convert the predictions to 1 (anomaly) and 0 (normal)\n",
    "y_pred_svm = np.where(y_pred_svm == -1, 1, 0)\n",
    "\n",
    "# Calculate and print the accuracy\n",
    "accuracy_svm = accuracy_score(pursuit_t4_res, y_pred_svm)\n",
    "#print(f'Prediction:', y_pred_svm)\n",
    "print(f\"Accuracy of One-Class SVM: {accuracy_svm}\")"
   ],
   "metadata": {
    "collapsed": false
   },
   "id": "75286a643d8eae8e",
   "execution_count": null
  },
  {
   "cell_type": "code",
   "outputs": [],
   "source": [
    "clutter_X = clutter.drop(\"Target\", axis=1)\n",
    "clutter_y = clutter[\"Target\"]\n",
    "\n",
    "# Predict on the test data\n",
    "y_pred_svm = model_svm_01.predict(clutter_X)\n",
    "\n",
    "# Convert the predictions to 1 (anomaly) and 0 (normal)\n",
    "y_pred_svm = np.where(y_pred_svm == -1, 1, 0)\n",
    "\n",
    "# Calculate and print the accuracy\n",
    "accuracy_svm = accuracy_score(clutter_y, y_pred_svm)\n",
    "#print(f'Prediction:', y_pred_svm)\n",
    "clutter['Target'] = y_pred_svm\n",
    "clutter_X_arr = np.array(clutter_X)\n",
    "print(f\"Accuracy of One-Class SVM: {accuracy_svm}\")\n",
    "j = 0\n",
    "for i in range(len(clutter_X_arr)):\n",
    "    if y_pred_svm[i] == 1:\n",
    "        j = j + 1\n",
    "print(\"Total clutter\", j)"
   ],
   "metadata": {
    "collapsed": false
   },
   "id": "56db134417734638",
   "execution_count": null
  },
  {
   "cell_type": "code",
   "outputs": [],
   "source": [
    "clutter['Target'].value_counts()"
   ],
   "metadata": {
    "collapsed": false
   },
   "id": "ea1b8b0bfc5f1ad",
   "execution_count": null
  },
  {
   "cell_type": "code",
   "outputs": [],
   "source": [
    "df = pd.read_csv('ReportOnClutter.csv')"
   ],
   "metadata": {
    "collapsed": false
   },
   "id": "4ad5fcf9af4df72e",
   "execution_count": null
  },
  {
   "cell_type": "code",
   "outputs": [],
   "source": [
    "df['Target'].value_counts()"
   ],
   "metadata": {
    "collapsed": false
   },
   "id": "e3b550cd92d206cf",
   "execution_count": null
  },
  {
   "cell_type": "code",
   "outputs": [],
   "source": [
    "df[df['Duration Of Intercept'] == 0].describe()"
   ],
   "metadata": {
    "collapsed": false
   },
   "id": "d0d5ff1ca1e25b7b",
   "execution_count": null
  },
  {
   "cell_type": "code",
   "outputs": [],
   "source": [
    "df[df['Target'] == 0].describe()"
   ],
   "metadata": {
    "collapsed": false
   },
   "id": "3e965f50d74e20ac",
   "execution_count": null
  },
  {
   "cell_type": "code",
   "outputs": [],
   "source": [],
   "metadata": {
    "collapsed": false
   },
   "id": "602b583b705a8"
  }
 ],
 "metadata": {
  "kernelspec": {
   "display_name": "Python 3",
   "language": "python",
   "name": "python3"
  },
  "language_info": {
   "codemirror_mode": {
    "name": "ipython",
    "version": 2
   },
   "file_extension": ".py",
   "mimetype": "text/x-python",
   "name": "python",
   "nbconvert_exporter": "python",
   "pygments_lexer": "ipython2",
   "version": "2.7.6"
  }
 },
 "nbformat": 4,
 "nbformat_minor": 5
}

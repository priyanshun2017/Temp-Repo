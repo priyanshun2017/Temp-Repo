{
 "cells": [
  {
   "cell_type": "markdown",
   "source": [
    "#### Get the frequencies ranges and get the automated report\n",
    "1. Get the frequencies and divide them (done)\n",
    "2. Now traverse the whole dataset and get the needed indices (done)\n",
    "3. Now for a particular frequency range get the needed values based on some computations needed\n",
    "4. Finally store the values in the .csv files\n"
   ],
   "metadata": {
    "collapsed": false
   },
   "id": "8b2a681c513d0ce0"
  },
  {
   "cell_type": "code",
   "outputs": [],
   "source": [
    "# Import all the tools we need\n",
    "import numpy as np\n",
    "import pandas as pd\n",
    "from sklearn.covariance import EllipticEnvelope\n",
    "from sklearn.linear_model import SGDClassifier\n",
    "from sklearn.neighbors import LocalOutlierFactor\n",
    "from sklearn.svm import OneClassSVM, LinearSVC, SVC, SVR\n",
    "from sklearn.metrics import accuracy_score"
   ],
   "metadata": {
    "collapsed": false,
    "ExecuteTime": {
     "end_time": "2024-06-07T08:10:53.298011Z",
     "start_time": "2024-06-07T08:10:52.044406300Z"
    }
   },
   "id": "74e22433b44fe5ee",
   "execution_count": 1
  },
  {
   "cell_type": "code",
   "outputs": [
    {
     "data": {
      "text/plain": "             Target          TOFA          TOLA     Hit Count  Frequency(MHz)  \\\ncount  11840.000000  11840.000000  11840.000000  11840.000000    11840.000000   \nmean       0.432264  52673.908446  52987.662753   2085.345355     5209.313803   \nstd        0.495411    192.100954     41.747266   1671.892403     3221.715706   \nmin        0.000000  52411.000000  52904.000000     51.000000     1250.952148   \n25%        0.000000  52506.000000  52950.000000    438.500000     2799.853516   \n50%        0.000000  52620.000000  52977.000000   2081.000000     3457.833426   \n75%        1.000000  52811.000000  53022.000000   2775.750000     9245.894401   \nmax        1.000000  52962.000000  53072.000000   6194.000000     9422.078933   \n\n       Pulse Width(us)  MaxAmplitude(dBm)      AOA(Deg)      DOA(Deg)  \\\ncount     11840.000000       11840.000000  11840.000000  11840.000000   \nmean          8.954191         -62.061202    181.494018    183.874688   \nstd          20.497141          10.460356    105.782496     91.529191   \nmin           0.181667         -74.907372     36.345985     31.568359   \n25%           0.655000         -70.783554     58.069550    112.127747   \n50%           0.996818         -64.753014    175.636429    190.619385   \n75%           4.295000         -53.818363    288.953217    287.213074   \nmax         184.314987         -32.047184    336.263000    305.566284   \n\n            DF Type  ...      Yaw(deg)  IsPassive  BI Phase Flag  \\\ncount  11840.000000  ...  11840.000000    11840.0   11840.000000   \nmean       1.939780  ...   -116.848218        0.0       0.181757   \nstd        0.997254  ...      2.558922        0.0       0.385660   \nmin        1.000000  ...   -118.608391        0.0       0.000000   \n25%        1.000000  ...   -117.916260        0.0       0.000000   \n50%        2.000000  ...   -117.586662        0.0       0.000000   \n75%        3.000000  ...   -117.515259        0.0       0.000000   \nmax        5.000000  ...   -106.446533        0.0       1.000000   \n\n       Est_LF_Lat(deg)  Est_LF_Long(deg)  Est_Major_Axis(kms)  \\\ncount     11840.000000      11840.000000         11840.000000   \nmean          5.175648         34.270829            40.419043   \nstd           5.955387         38.099100            51.366448   \nmin           0.000000          0.000000             0.000000   \n25%           0.000000          0.000000             0.000000   \n50%           0.000000          0.000000             0.000000   \n75%          11.322827         75.508377            60.183659   \nmax          14.371135         79.498367           164.308411   \n\n       Est_Minor_Axis(kms)  Inclinationarr_fPRI[0]   arr_fPRI[1]            TD  \ncount         11840.000000            11840.000000  11840.000000  11840.000000  \nmean              2.878245               74.064539   1512.293047    313.754307  \nstd               6.028200              104.009052   1074.718683    198.716139  \nmin               0.000000                0.000000     11.600000      1.000000  \n25%               0.000000                0.000000    889.084000    136.000000  \n50%               0.000000                0.000000   1340.160000    330.000000  \n75%               2.102043              191.623001   2222.100000    496.000000  \nmax              29.679119              281.945343   4364.800000    647.000000  \n\n[8 rows x 31 columns]",
      "text/html": "<div>\n<style scoped>\n    .dataframe tbody tr th:only-of-type {\n        vertical-align: middle;\n    }\n\n    .dataframe tbody tr th {\n        vertical-align: top;\n    }\n\n    .dataframe thead th {\n        text-align: right;\n    }\n</style>\n<table border=\"1\" class=\"dataframe\">\n  <thead>\n    <tr style=\"text-align: right;\">\n      <th></th>\n      <th>Target</th>\n      <th>TOFA</th>\n      <th>TOLA</th>\n      <th>Hit Count</th>\n      <th>Frequency(MHz)</th>\n      <th>Pulse Width(us)</th>\n      <th>MaxAmplitude(dBm)</th>\n      <th>AOA(Deg)</th>\n      <th>DOA(Deg)</th>\n      <th>DF Type</th>\n      <th>...</th>\n      <th>Yaw(deg)</th>\n      <th>IsPassive</th>\n      <th>BI Phase Flag</th>\n      <th>Est_LF_Lat(deg)</th>\n      <th>Est_LF_Long(deg)</th>\n      <th>Est_Major_Axis(kms)</th>\n      <th>Est_Minor_Axis(kms)</th>\n      <th>Inclinationarr_fPRI[0]</th>\n      <th>arr_fPRI[1]</th>\n      <th>TD</th>\n    </tr>\n  </thead>\n  <tbody>\n    <tr>\n      <th>count</th>\n      <td>11840.000000</td>\n      <td>11840.000000</td>\n      <td>11840.000000</td>\n      <td>11840.000000</td>\n      <td>11840.000000</td>\n      <td>11840.000000</td>\n      <td>11840.000000</td>\n      <td>11840.000000</td>\n      <td>11840.000000</td>\n      <td>11840.000000</td>\n      <td>...</td>\n      <td>11840.000000</td>\n      <td>11840.0</td>\n      <td>11840.000000</td>\n      <td>11840.000000</td>\n      <td>11840.000000</td>\n      <td>11840.000000</td>\n      <td>11840.000000</td>\n      <td>11840.000000</td>\n      <td>11840.000000</td>\n      <td>11840.000000</td>\n    </tr>\n    <tr>\n      <th>mean</th>\n      <td>0.432264</td>\n      <td>52673.908446</td>\n      <td>52987.662753</td>\n      <td>2085.345355</td>\n      <td>5209.313803</td>\n      <td>8.954191</td>\n      <td>-62.061202</td>\n      <td>181.494018</td>\n      <td>183.874688</td>\n      <td>1.939780</td>\n      <td>...</td>\n      <td>-116.848218</td>\n      <td>0.0</td>\n      <td>0.181757</td>\n      <td>5.175648</td>\n      <td>34.270829</td>\n      <td>40.419043</td>\n      <td>2.878245</td>\n      <td>74.064539</td>\n      <td>1512.293047</td>\n      <td>313.754307</td>\n    </tr>\n    <tr>\n      <th>std</th>\n      <td>0.495411</td>\n      <td>192.100954</td>\n      <td>41.747266</td>\n      <td>1671.892403</td>\n      <td>3221.715706</td>\n      <td>20.497141</td>\n      <td>10.460356</td>\n      <td>105.782496</td>\n      <td>91.529191</td>\n      <td>0.997254</td>\n      <td>...</td>\n      <td>2.558922</td>\n      <td>0.0</td>\n      <td>0.385660</td>\n      <td>5.955387</td>\n      <td>38.099100</td>\n      <td>51.366448</td>\n      <td>6.028200</td>\n      <td>104.009052</td>\n      <td>1074.718683</td>\n      <td>198.716139</td>\n    </tr>\n    <tr>\n      <th>min</th>\n      <td>0.000000</td>\n      <td>52411.000000</td>\n      <td>52904.000000</td>\n      <td>51.000000</td>\n      <td>1250.952148</td>\n      <td>0.181667</td>\n      <td>-74.907372</td>\n      <td>36.345985</td>\n      <td>31.568359</td>\n      <td>1.000000</td>\n      <td>...</td>\n      <td>-118.608391</td>\n      <td>0.0</td>\n      <td>0.000000</td>\n      <td>0.000000</td>\n      <td>0.000000</td>\n      <td>0.000000</td>\n      <td>0.000000</td>\n      <td>0.000000</td>\n      <td>11.600000</td>\n      <td>1.000000</td>\n    </tr>\n    <tr>\n      <th>25%</th>\n      <td>0.000000</td>\n      <td>52506.000000</td>\n      <td>52950.000000</td>\n      <td>438.500000</td>\n      <td>2799.853516</td>\n      <td>0.655000</td>\n      <td>-70.783554</td>\n      <td>58.069550</td>\n      <td>112.127747</td>\n      <td>1.000000</td>\n      <td>...</td>\n      <td>-117.916260</td>\n      <td>0.0</td>\n      <td>0.000000</td>\n      <td>0.000000</td>\n      <td>0.000000</td>\n      <td>0.000000</td>\n      <td>0.000000</td>\n      <td>0.000000</td>\n      <td>889.084000</td>\n      <td>136.000000</td>\n    </tr>\n    <tr>\n      <th>50%</th>\n      <td>0.000000</td>\n      <td>52620.000000</td>\n      <td>52977.000000</td>\n      <td>2081.000000</td>\n      <td>3457.833426</td>\n      <td>0.996818</td>\n      <td>-64.753014</td>\n      <td>175.636429</td>\n      <td>190.619385</td>\n      <td>2.000000</td>\n      <td>...</td>\n      <td>-117.586662</td>\n      <td>0.0</td>\n      <td>0.000000</td>\n      <td>0.000000</td>\n      <td>0.000000</td>\n      <td>0.000000</td>\n      <td>0.000000</td>\n      <td>0.000000</td>\n      <td>1340.160000</td>\n      <td>330.000000</td>\n    </tr>\n    <tr>\n      <th>75%</th>\n      <td>1.000000</td>\n      <td>52811.000000</td>\n      <td>53022.000000</td>\n      <td>2775.750000</td>\n      <td>9245.894401</td>\n      <td>4.295000</td>\n      <td>-53.818363</td>\n      <td>288.953217</td>\n      <td>287.213074</td>\n      <td>3.000000</td>\n      <td>...</td>\n      <td>-117.515259</td>\n      <td>0.0</td>\n      <td>0.000000</td>\n      <td>11.322827</td>\n      <td>75.508377</td>\n      <td>60.183659</td>\n      <td>2.102043</td>\n      <td>191.623001</td>\n      <td>2222.100000</td>\n      <td>496.000000</td>\n    </tr>\n    <tr>\n      <th>max</th>\n      <td>1.000000</td>\n      <td>52962.000000</td>\n      <td>53072.000000</td>\n      <td>6194.000000</td>\n      <td>9422.078933</td>\n      <td>184.314987</td>\n      <td>-32.047184</td>\n      <td>336.263000</td>\n      <td>305.566284</td>\n      <td>5.000000</td>\n      <td>...</td>\n      <td>-106.446533</td>\n      <td>0.0</td>\n      <td>1.000000</td>\n      <td>14.371135</td>\n      <td>79.498367</td>\n      <td>164.308411</td>\n      <td>29.679119</td>\n      <td>281.945343</td>\n      <td>4364.800000</td>\n      <td>647.000000</td>\n    </tr>\n  </tbody>\n</table>\n<p>8 rows × 31 columns</p>\n</div>"
     },
     "execution_count": 2,
     "metadata": {},
     "output_type": "execute_result"
    }
   ],
   "source": [
    "analysis = pd.read_csv('CompleteReportOnClutter.csv')\n",
    "analysis.describe()"
   ],
   "metadata": {
    "collapsed": false,
    "ExecuteTime": {
     "end_time": "2024-06-07T08:10:53.416546900Z",
     "start_time": "2024-06-07T08:10:53.301449100Z"
    }
   },
   "id": "1802f3437b2ab501",
   "execution_count": 2
  },
  {
   "cell_type": "markdown",
   "source": [
    "1. Target\t\n",
    "2. Duration Of Intercept\t\n",
    "3. Max TOLA\tMax Hit Count\t\n",
    "4. Min Frequency(MHz)\t\n",
    "5. Max Frequency(MHz)\t\n",
    "6. Max Pulse Width(us)\t\n",
    "7. Max arr_fPRI[1]\t\n",
    "8. Max Bandwidth(MHz)\t\n",
    "9. Est_LF_Lat(deg)\t\n",
    "10. Est_LF_Long(deg)\t\n",
    "11. Min Amplitude(dBm)\t\n",
    "12. Max Amplitude(dBm)\n"
   ],
   "metadata": {
    "collapsed": false
   },
   "id": "c5185178be4c8bb"
  },
  {
   "cell_type": "code",
   "outputs": [],
   "source": [
    "analysis_1 = analysis[analysis['Target'] == 1]"
   ],
   "metadata": {
    "collapsed": false,
    "ExecuteTime": {
     "end_time": "2024-06-07T08:11:46.753391900Z",
     "start_time": "2024-06-07T08:11:46.742075900Z"
    }
   },
   "id": "a30d4cf1ac0a197b",
   "execution_count": 5
  },
  {
   "cell_type": "code",
   "outputs": [],
   "source": [
    "analysis_arr = np.array(analysis_1)"
   ],
   "metadata": {
    "collapsed": false,
    "ExecuteTime": {
     "end_time": "2024-06-07T08:11:47.055707900Z",
     "start_time": "2024-06-07T08:11:47.045542200Z"
    }
   },
   "id": "849e381dde683987",
   "execution_count": 6
  },
  {
   "cell_type": "code",
   "outputs": [
    {
     "data": {
      "text/plain": "array([[1.00000000e+00, 5.24110000e+04, 5.29220000e+04, ...,\n        2.69989620e+01, 4.26602000e+02, 5.11000000e+02],\n       [1.00000000e+00, 5.25060000e+04, 5.29040000e+04, ...,\n        2.81945343e+02, 7.52525000e+02, 3.98000000e+02],\n       [1.00000000e+00, 5.26200000e+04, 5.29200000e+04, ...,\n        0.00000000e+00, 1.66661100e+03, 3.00000000e+02],\n       ...,\n       [1.00000000e+00, 5.26200000e+04, 5.30410000e+04, ...,\n        1.13974731e+02, 1.66660400e+03, 4.21000000e+02],\n       [1.00000000e+00, 5.24110000e+04, 5.30580000e+04, ...,\n        2.69989620e+01, 3.51904000e+02, 6.47000000e+02],\n       [1.00000000e+00, 5.26200000e+04, 5.30410000e+04, ...,\n        1.13974731e+02, 1.66660400e+03, 4.21000000e+02]])"
     },
     "execution_count": 7,
     "metadata": {},
     "output_type": "execute_result"
    }
   ],
   "source": [
    "analysis_arr"
   ],
   "metadata": {
    "collapsed": false,
    "ExecuteTime": {
     "end_time": "2024-06-07T08:11:47.363210200Z",
     "start_time": "2024-06-07T08:11:47.355615800Z"
    }
   },
   "id": "e1be624f74c50c7c",
   "execution_count": 7
  },
  {
   "cell_type": "code",
   "outputs": [],
   "source": [
    "bin_1 = []\n",
    "bin_2 = []\n",
    "bin_3 = []\n",
    "bin_4 = []\n",
    "bin_5 = []\n",
    "bin_6 = []\n",
    "bin_7 = []\n",
    "bin_8 = []\n",
    "for i in range(len(analysis_arr)):\n",
    "    if 1250 < analysis_arr[i][4] < 1260:\n",
    "        bin_1.append(i)\n",
    "    elif 1279 < analysis_arr[i][4] < 1281:\n",
    "        bin_2.append(i)\n",
    "    elif 2798 < analysis_arr[i][4] < 2800:\n",
    "        bin_3.append(i)\n",
    "    elif 2831 < analysis_arr[i][4] < 2833:\n",
    "        bin_4.append(i)\n",
    "    elif 3448 < analysis_arr[i][4] < 4000:\n",
    "        bin_5.append(i)\n",
    "    elif 8361 < analysis_arr[i][4] < 8362:\n",
    "        bin_6.append(i)\n",
    "    elif 9376 < analysis_arr[i][4] < 9378:\n",
    "        bin_7.append(i)\n",
    "    elif 9405 < analysis_arr[i][4] < 9407:\n",
    "        bin_8.append(i)    "
   ],
   "metadata": {
    "collapsed": false,
    "ExecuteTime": {
     "end_time": "2024-06-04T06:22:44.898147400Z",
     "start_time": "2024-06-04T06:22:44.873043700Z"
    }
   },
   "id": "6e3b6175753fa88",
   "execution_count": 108
  },
  {
   "cell_type": "code",
   "outputs": [
    {
     "name": "stdout",
     "output_type": "stream",
     "text": [
      "Size of bin 1: 373\n",
      "Size of bin 2: 1357\n",
      "Size of bin 3: 1273\n",
      "Size of bin 4: 380\n",
      "Size of bin 5: 971\n",
      "Size of bin 6: 572\n",
      "Size of bin 7: 94\n",
      "Size of bin 8: 98\n"
     ]
    }
   ],
   "source": [
    "print('Size of bin 1:', len(bin_1))\n",
    "print('Size of bin 2:', len(bin_2))\n",
    "print('Size of bin 3:', len(bin_3))\n",
    "print('Size of bin 4:', len(bin_4))\n",
    "print('Size of bin 5:', len(bin_5))\n",
    "print('Size of bin 6:', len(bin_6))\n",
    "print('Size of bin 7:', len(bin_7))\n",
    "print('Size of bin 8:', len(bin_8))"
   ],
   "metadata": {
    "collapsed": false,
    "ExecuteTime": {
     "end_time": "2024-06-04T06:22:45.812954100Z",
     "start_time": "2024-06-04T06:22:45.792352500Z"
    }
   },
   "id": "e22c65b2d50fb3b5",
   "execution_count": 109
  },
  {
   "cell_type": "code",
   "outputs": [
    {
     "name": "stdout",
     "output_type": "stream",
     "text": [
      "Freq : 1251.196289\n",
      "Freq : 1251.258263\n"
     ]
    }
   ],
   "source": [
    "max_freq = analysis_arr[bin_1[0]][4]\n",
    "print(\"Freq :\",max_freq)\n",
    "for i in range(len(bin_1)):\n",
    "    max_freq = max(analysis_arr[bin_1[i]][4], max_freq)\n",
    "print(\"Freq :\",max_freq)"
   ],
   "metadata": {
    "collapsed": false,
    "ExecuteTime": {
     "end_time": "2024-06-04T06:22:52.462492500Z",
     "start_time": "2024-06-04T06:22:52.452133800Z"
    }
   },
   "id": "9bcbf92f068141be",
   "execution_count": 110
  },
  {
   "cell_type": "code",
   "outputs": [
    {
     "ename": "TypeError",
     "evalue": "descriptor 'add' for 'set' objects doesn't apply to a 'numpy.float64' object",
     "output_type": "error",
     "traceback": [
      "\u001B[1;31m---------------------------------------------------------------------------\u001B[0m",
      "\u001B[1;31mTypeError\u001B[0m                                 Traceback (most recent call last)",
      "Cell \u001B[1;32mIn[99], line 35\u001B[0m\n\u001B[0;32m     33\u001B[0m min_freq \u001B[38;5;241m=\u001B[39m \u001B[38;5;28mmin\u001B[39m(min_freq, analysis_arr[bin_1[i]][\u001B[38;5;241m4\u001B[39m])\n\u001B[0;32m     34\u001B[0m \u001B[38;5;66;03m# max_pw = max(max_pw, analysis_arr[bin_1[i]][5])\u001B[39;00m\n\u001B[1;32m---> 35\u001B[0m max_pw \u001B[38;5;241m=\u001B[39m \u001B[38;5;28;43mset\u001B[39;49m\u001B[38;5;241;43m.\u001B[39;49m\u001B[43madd\u001B[49m\u001B[43m(\u001B[49m\u001B[43manalysis_arr\u001B[49m\u001B[43m[\u001B[49m\u001B[43mbin_1\u001B[49m\u001B[43m[\u001B[49m\u001B[43mi\u001B[49m\u001B[43m]\u001B[49m\u001B[43m]\u001B[49m\u001B[43m[\u001B[49m\u001B[38;5;241;43m5\u001B[39;49m\u001B[43m]\u001B[49m\u001B[43m)\u001B[49m\n\u001B[0;32m     36\u001B[0m \u001B[38;5;66;03m# max_pri = max(max_pri, analysis_arr[bin_1[i]][29])\u001B[39;00m\n\u001B[0;32m     37\u001B[0m max_pri \u001B[38;5;241m=\u001B[39m \u001B[38;5;28mset\u001B[39m\u001B[38;5;241m.\u001B[39madd(analysis_arr[bin_1[i]][\u001B[38;5;241m29\u001B[39m])\n",
      "\u001B[1;31mTypeError\u001B[0m: descriptor 'add' for 'set' objects doesn't apply to a 'numpy.float64' object"
     ]
    }
   ],
   "source": [
    "# Duration Of Intercept\t\n",
    "# Max TOLA\n",
    "# Max Hit Count\t\n",
    "# Min Frequency(MHz)\t\n",
    "# Max Frequency(MHz)\t\n",
    "# Max Pulse Width(us)\t\n",
    "# Max arr_fPRI[1]\t\n",
    "# Max Bandwidth(MHz)\t\n",
    "# Est_LF_Lat(deg)\t\n",
    "# Est_LF_Long(deg)\t\n",
    "# Min Amplitude(dBm)\t\n",
    "# Max Amplitude(dBm)\n",
    "for j in range(0, len(analysis_arr)):\n",
    "    min_tola = 99999\n",
    "    doi = 0\n",
    "    max_tola = 0\n",
    "    max_hit_count = 0 \n",
    "    max_freq = 0\n",
    "    min_freq = 9999\n",
    "    max_pw = []\n",
    "    max_pri = []\n",
    "    max_bw = 0\n",
    "    est_lat = 0\n",
    "    est_long = 0\n",
    "    max_amp = -100\n",
    "    min_amp = 0\n",
    "    for i in range(0, len(bin_1)):\n",
    "        max_tola = max(max_tola, analysis_arr[bin_1[i]][2])\n",
    "        min_tola = min(analysis_arr[bin_1[0]][2], analysis_arr[bin_1[i]][2])\n",
    "        doi = max_tola - min_tola\n",
    "        max_hit_count = max(max_hit_count, analysis_arr[bin_1[i]][3])\n",
    "        max_freq = max(max_freq, analysis_arr[bin_1[i]][4])\n",
    "        min_freq = min(min_freq, analysis_arr[bin_1[i]][4])\n",
    "        # max_pw = max(max_pw, analysis_arr[bin_1[i]][5])\n",
    "        max_pw = set.add(analysis_arr[bin_1[i]][5])\n",
    "        # max_pri = max(max_pri, analysis_arr[bin_1[i]][29])\n",
    "        max_pri = set.add(analysis_arr[bin_1[i]][29])\n",
    "        max_bw = max(max_bw, analysis_arr[bin_1[i]][11])\n",
    "        est_lat = max(est_lat, analysis_arr[bin_1[i]][24])\n",
    "        est_long = max(est_long, analysis_arr[bin_1[i]][25])\n",
    "        max_amp = max(max_amp, analysis_arr[bin_1[i]][6])\n",
    "        min_amp = min(min_amp, analysis_arr[bin_1[i]][6])\n",
    "        print(max_pw)\n",
    "    s1 = pd.Series([doi, max_hit_count, max_freq, min_freq, max_pw, max_pri, max_bw, est_lat, est_long, max_amp, min_amp])\n",
    "    df = pd.DataFrame([list(s1)], columns= [\"doi\", \"max_hit_count\", \"Max Freq\", \"Min Freq\", \"Max Pw\", \"Max pri\", \"Max Bw\", \"Est Lat\", \"Est long\", \"max amp\", \"min amp\"])\n",
    "    df.to_csv('temp.csv', index=False)"
   ],
   "metadata": {
    "collapsed": false,
    "ExecuteTime": {
     "end_time": "2024-06-04T06:14:34.614429400Z",
     "start_time": "2024-06-04T06:14:34.562266600Z"
    }
   },
   "id": "e63967673b526dab",
   "execution_count": 99
  },
  {
   "cell_type": "code",
   "outputs": [],
   "source": [
    "print(\"MAX_TOLA:\", max_tola)\n",
    "print(\"MIN_TOLA\", min_tola)\n",
    "print(\"DOI:\", doi)\n",
    "print(\"MAX_HIT_COUNT:\", max_hit_count)\n",
    "print(\"MAX_FREQ:\", max_freq)\n",
    "print(\"MIN_FREQ:\", min_freq)\n",
    "print(\"MAX_PW:\", max_pw)\n",
    "print(\"MAX_PRI:\", max_pri)\n",
    "print(\"MAX_BW:\", max_bw)\n",
    "print(\"EST_LAT:\", est_lat)\n",
    "print(\"EST_LON:\", est_long)\n",
    "print(\"MAX_AMP:\", max_amp)\n",
    "print(\"MAX_AMP:\", min_amp)"
   ],
   "metadata": {
    "collapsed": false,
    "ExecuteTime": {
     "start_time": "2024-06-04T06:08:05.885563800Z"
    }
   },
   "id": "6dce239483de2b97",
   "execution_count": null
  },
  {
   "cell_type": "code",
   "outputs": [
    {
     "data": {
      "text/plain": "[0.425909]"
     },
     "execution_count": 127,
     "metadata": {},
     "output_type": "execute_result"
    }
   ],
   "source": [
    "# Duration Of Intercept\t\n",
    "# Max TOLA\n",
    "# Max Hit Count\t\n",
    "# Min Frequency(MHz)\t\n",
    "# Max Frequency(MHz)\t\n",
    "# Max Pulse Width(us)\t\n",
    "# Max arr_fPRI[1]\t\n",
    "# Max Bandwidth(MHz)\t\n",
    "# Est_LF_Lat(deg)\t\n",
    "# Est_LF_Long(deg)\t\n",
    "# Min Amplitude(dBm)\t\n",
    "# Max Amplitude(dBm)\n",
    "setter_pw= set()\n",
    "setter_pri = set()\n",
    "for i in range(len(bin_8)):\n",
    "    setter_pw.add(analysis_arr[bin_8[i]][5])\n",
    "    setter_pri.add(analysis_arr[bin_8[i]][29])\n",
    "setter_pw= sorted(setter_pw)\n",
    "setter_pw"
   ],
   "metadata": {
    "collapsed": false,
    "ExecuteTime": {
     "end_time": "2024-06-04T06:32:43.130351300Z",
     "start_time": "2024-06-04T06:32:43.124835900Z"
    }
   },
   "id": "6593eea49bc78e6d",
   "execution_count": 127
  },
  {
   "cell_type": "code",
   "outputs": [
    {
     "data": {
      "text/plain": "[714.116]"
     },
     "execution_count": 128,
     "metadata": {},
     "output_type": "execute_result"
    }
   ],
   "source": [
    "setter_pri = sorted(setter_pri)\n",
    "setter_pri"
   ],
   "metadata": {
    "collapsed": false,
    "ExecuteTime": {
     "end_time": "2024-06-04T06:32:43.855352800Z",
     "start_time": "2024-06-04T06:32:43.848325100Z"
    }
   },
   "id": "537be5be4e5ab382",
   "execution_count": 128
  },
  {
   "cell_type": "code",
   "outputs": [
    {
     "data": {
      "text/plain": "array([[0.00000000e+00, 5.27010000e+04, 5.29290000e+04, ...,\n        1.99613892e+02, 9.09431000e+02, 2.28000000e+02],\n       [0.00000000e+00, 5.28870000e+04, 5.29090000e+04, ...,\n        0.00000000e+00, 4.30660000e+03, 2.20000000e+01],\n       [0.00000000e+00, 5.29080000e+04, 5.29110000e+04, ...,\n        0.00000000e+00, 1.44812000e+03, 3.00000000e+00],\n       ...,\n       [0.00000000e+00, 5.28110000e+04, 5.30510000e+04, ...,\n        1.91623001e+02, 2.22208800e+03, 2.40000000e+02],\n       [0.00000000e+00, 5.29080000e+04, 5.30480000e+04, ...,\n        0.00000000e+00, 1.44812000e+03, 1.40000000e+02],\n       [0.00000000e+00, 5.29460000e+04, 5.30590000e+04, ...,\n        0.00000000e+00, 1.77628000e+03, 1.13000000e+02]])"
     },
     "execution_count": 131,
     "metadata": {},
     "output_type": "execute_result"
    }
   ],
   "source": [
    "analysis_0 = pd.read_csv('CompleteReportOnClutter.csv')\n",
    "analysis_0 = analysis_0[analysis_0['Target'] == 0]\n",
    "analysis_array = np.array(analysis_0)\n",
    "analysis_array"
   ],
   "metadata": {
    "collapsed": false,
    "ExecuteTime": {
     "end_time": "2024-06-04T06:38:35.323554800Z",
     "start_time": "2024-06-04T06:38:35.279259100Z"
    }
   },
   "id": "6da6b59e01b9d0a2",
   "execution_count": 131
  },
  {
   "cell_type": "code",
   "outputs": [],
   "source": [
    "bin_1 = []\n",
    "bin_2 = []\n",
    "bin_3 = []\n",
    "bin_4 = []\n",
    "bin_5 = []\n",
    "bin_6 = []\n",
    "bin_7 = []\n",
    "bin_8 = []\n",
    "for i in range(len(analysis_array)):\n",
    "    if 2831 < analysis_array[i][4] < 2833:\n",
    "        bin_1.append(i)\n",
    "    elif 3439 < analysis_array[i][4] < 3458:\n",
    "        bin_2.append(i)\n",
    "    elif 3467 < analysis_array[i][4] < 3485:\n",
    "        bin_3.append(i)\n",
    "    elif 8361 < analysis_array[i][4] < 8362:\n",
    "        bin_4.append(i)\n",
    "    elif 9238 < analysis_array[i][4] < 9249:\n",
    "        bin_5.append(i)\n",
    "    elif 9377 < analysis_array[i][4] < 9378:\n",
    "        bin_6.append(i)\n",
    "    elif 9387 < analysis_array[i][4] < 9423:\n",
    "        bin_7.append(i)\n",
    "    elif 9425 < analysis_array[i][4] < 11000:\n",
    "        bin_8.append(i)    "
   ],
   "metadata": {
    "collapsed": false,
    "ExecuteTime": {
     "end_time": "2024-06-04T06:42:23.031381700Z",
     "start_time": "2024-06-04T06:42:23.003619400Z"
    }
   },
   "id": "9cf90be8efcd5ca4",
   "execution_count": 135
  },
  {
   "cell_type": "code",
   "outputs": [
    {
     "name": "stdout",
     "output_type": "stream",
     "text": [
      "Size of bin 1: 955\n",
      "Size of bin 2: 687\n",
      "Size of bin 3: 1247\n",
      "Size of bin 4: 398\n",
      "Size of bin 5: 854\n",
      "Size of bin 6: 81\n",
      "Size of bin 7: 2441\n",
      "Size of bin 8: 0\n"
     ]
    }
   ],
   "source": [
    "print('Size of bin 1:', len(bin_1))\n",
    "print('Size of bin 2:', len(bin_2))\n",
    "print('Size of bin 3:', len(bin_3))\n",
    "print('Size of bin 4:', len(bin_4))\n",
    "print('Size of bin 5:', len(bin_5))\n",
    "print('Size of bin 6:', len(bin_6))\n",
    "print('Size of bin 7:', len(bin_7))\n",
    "print('Size of bin 8:', len(bin_8))"
   ],
   "metadata": {
    "collapsed": false,
    "ExecuteTime": {
     "end_time": "2024-06-04T06:42:24.280276400Z",
     "start_time": "2024-06-04T06:42:24.271005900Z"
    }
   },
   "id": "7325081a20abd695",
   "execution_count": 136
  },
  {
   "cell_type": "code",
   "outputs": [
    {
     "data": {
      "text/plain": "[0.181667,\n 0.198182,\n 0.205909,\n 0.206111,\n 0.206154,\n 0.364,\n 0.391667,\n 0.399167,\n 0.423,\n 0.42625,\n 0.428333,\n 0.433462,\n 0.449286,\n 0.455,\n 0.463,\n 0.543889,\n 0.548333,\n 0.566111,\n 0.567,\n 0.571667,\n 0.575,\n 0.583889,\n 0.811667]"
     },
     "execution_count": 162,
     "metadata": {},
     "output_type": "execute_result"
    }
   ],
   "source": [
    "# Duration Of Intercept\t\n",
    "# Max TOLA\n",
    "# Max Hit Count\t\n",
    "# Min Frequency(MHz)\t\n",
    "# Max Frequency(MHz)\t\n",
    "# Max Pulse Width(us)\t\n",
    "# Max arr_fPRI[1]\t\n",
    "# Max Bandwidth(MHz)\t\n",
    "# Est_LF_Lat(deg)\t\n",
    "# Est_LF_Long(deg)\t\n",
    "# Min Amplitude(dBm)\t\n",
    "# Max Amplitude(dBm)\n",
    "setter_pw= set()\n",
    "setter_pri = set()\n",
    "for i in range(len(bin_7)):\n",
    "    setter_pw.add(analysis_array[bin_7[i]][5])\n",
    "    setter_pri.add(analysis_array[bin_7[i]][29])\n",
    "setter_pw= sorted(setter_pw)\n",
    "setter_pw"
   ],
   "metadata": {
    "collapsed": false,
    "ExecuteTime": {
     "end_time": "2024-06-04T06:52:35.669433900Z",
     "start_time": "2024-06-04T06:52:35.661034400Z"
    }
   },
   "id": "de4b57cc4d2885e2",
   "execution_count": 162
  },
  {
   "cell_type": "code",
   "outputs": [
    {
     "data": {
      "text/plain": "[444.538,\n 714.12,\n 716.36,\n 721.913,\n 889.084,\n 889.087,\n 889.093,\n 909.431,\n 909.433,\n 909.436,\n 909.44,\n 1019.931,\n 1020.406,\n 1037.728,\n 1075.864,\n 1077.327,\n 1160.387,\n 1160.391,\n 1394.667]"
     },
     "execution_count": 189,
     "metadata": {},
     "output_type": "execute_result"
    }
   ],
   "source": [
    "setter_pri = sorted(setter_pri)\n",
    "setter_pri"
   ],
   "metadata": {
    "collapsed": false,
    "ExecuteTime": {
     "end_time": "2024-06-04T07:23:40.419700800Z",
     "start_time": "2024-06-04T07:23:40.410461200Z"
    }
   },
   "id": "3847a60fa86b1a7a",
   "execution_count": 189
  },
  {
   "cell_type": "code",
   "outputs": [
    {
     "ename": "NameError",
     "evalue": "name 'setter_pri' is not defined",
     "output_type": "error",
     "traceback": [
      "\u001B[1;31m---------------------------------------------------------------------------\u001B[0m",
      "\u001B[1;31mNameError\u001B[0m                                 Traceback (most recent call last)",
      "Cell \u001B[1;32mIn[34], line 2\u001B[0m\n\u001B[0;32m      1\u001B[0m \u001B[38;5;28;01mimport\u001B[39;00m \u001B[38;5;21;01mmatplotlib\u001B[39;00m\u001B[38;5;21;01m.\u001B[39;00m\u001B[38;5;21;01mpyplot\u001B[39;00m \u001B[38;5;28;01mas\u001B[39;00m \u001B[38;5;21;01mplt\u001B[39;00m\n\u001B[1;32m----> 2\u001B[0m Graph \u001B[38;5;241m=\u001B[39m \u001B[43msetter_pri\u001B[49m\n\u001B[0;32m      3\u001B[0m xs \u001B[38;5;241m=\u001B[39m [y \u001B[38;5;28;01mfor\u001B[39;00m y \u001B[38;5;129;01min\u001B[39;00m \u001B[38;5;28mrange\u001B[39m(\u001B[38;5;28mlen\u001B[39m(Graph))]\n\u001B[0;32m      4\u001B[0m plt\u001B[38;5;241m.\u001B[39mplot(xs, Graph)\n",
      "\u001B[1;31mNameError\u001B[0m: name 'setter_pri' is not defined"
     ]
    }
   ],
   "source": [
    "import matplotlib.pyplot as plt\n",
    "Graph = setter_pri\n",
    "xs = [y for y in range(len(Graph))]\n",
    "plt.plot(xs, Graph)\n",
    "plt.show()"
   ],
   "metadata": {
    "collapsed": false,
    "ExecuteTime": {
     "end_time": "2024-06-07T08:21:21.193489500Z",
     "start_time": "2024-06-07T08:21:20.292738Z"
    }
   },
   "id": "3caeaed034e89ca5",
   "execution_count": 34
  },
  {
   "cell_type": "code",
   "outputs": [],
   "source": [],
   "metadata": {
    "collapsed": false
   },
   "id": "e094c4cfba35530d"
  }
 ],
 "metadata": {
  "kernelspec": {
   "display_name": "Python 3",
   "language": "python",
   "name": "python3"
  },
  "language_info": {
   "codemirror_mode": {
    "name": "ipython",
    "version": 2
   },
   "file_extension": ".py",
   "mimetype": "text/x-python",
   "name": "python",
   "nbconvert_exporter": "python",
   "pygments_lexer": "ipython2",
   "version": "2.7.6"
  }
 },
 "nbformat": 4,
 "nbformat_minor": 5
}
